{
 "cells": [
  {
   "cell_type": "markdown",
   "id": "bd15220b",
   "metadata": {},
   "source": [
    "First of all, we should import the necessary libraries."
   ]
  },
  {
   "cell_type": "code",
   "execution_count": 6,
   "id": "24a47a5b",
   "metadata": {},
   "outputs": [],
   "source": [
    "import networkx as nx\n",
    "import numpy as np\n",
    "import matplotlib.pyplot as plt"
   ]
  },
  {
   "cell_type": "markdown",
   "id": "6155509f",
   "metadata": {},
   "source": [
    "Then, using NetworkX we shall load the dataset."
   ]
  },
  {
   "cell_type": "code",
   "execution_count": 9,
   "id": "51ab3f14",
   "metadata": {},
   "outputs": [
    {
     "name": "stdout",
     "output_type": "stream",
     "text": [
      "Graph named \"Zachary's Karate Club\" with 34 nodes and 78 edges\n"
     ]
    }
   ],
   "source": [
    "G = nx.karate_club_graph()\n",
    "print(G)    # gives a short summary of our graph"
   ]
  },
  {
   "cell_type": "markdown",
   "id": "6177b7ad",
   "metadata": {},
   "source": [
    "We need to extract the Adjacency matrix 'A', the degree vector 'k' & number of edges 'm' from this graph.\n",
    "<br>However, before that we should create a separate fixed list of nodes for consistent ordering."
   ]
  },
  {
   "cell_type": "code",
   "execution_count": null,
   "id": "183c8ee9",
   "metadata": {},
   "outputs": [
    {
     "name": "stdout",
     "output_type": "stream",
     "text": [
      "Adjacency Matrix A:\n",
      " [[0. 4. 5. ... 2. 0. 0.]\n",
      " [4. 0. 6. ... 0. 0. 0.]\n",
      " [5. 6. 0. ... 0. 2. 0.]\n",
      " ...\n",
      " [2. 0. 0. ... 0. 4. 4.]\n",
      " [0. 0. 2. ... 4. 0. 5.]\n",
      " [0. 0. 0. ... 4. 5. 0.]]\n",
      "\n",
      "Degree Vector k:\n",
      " [[16]\n",
      " [ 9]\n",
      " [10]\n",
      " [ 6]\n",
      " [ 3]\n",
      " [ 4]\n",
      " [ 4]\n",
      " [ 4]\n",
      " [ 5]\n",
      " [ 2]\n",
      " [ 3]\n",
      " [ 1]\n",
      " [ 2]\n",
      " [ 5]\n",
      " [ 2]\n",
      " [ 2]\n",
      " [ 2]\n",
      " [ 2]\n",
      " [ 2]\n",
      " [ 3]\n",
      " [ 2]\n",
      " [ 2]\n",
      " [ 2]\n",
      " [ 5]\n",
      " [ 3]\n",
      " [ 3]\n",
      " [ 2]\n",
      " [ 4]\n",
      " [ 3]\n",
      " [ 4]\n",
      " [ 4]\n",
      " [ 6]\n",
      " [12]\n",
      " [17]]\n",
      "\n",
      "Total Edges m: 78\n"
     ]
    }
   ],
   "source": [
    "node_list = list(G.nodes())\n",
    "n = len(node_list)    # no. of nodes\n",
    "\n",
    "A = nx.to_numpy_array(G, nodelist=node_list)\n",
    "\n",
    "k = np.array([G.degree(node) for node in node_list]).reshape(n,1)\n",
    "# list comprehension to ensure order of nodes is same as in node_list.\n",
    "\n",
    "m = G.number_of_edges()\n",
    "\n",
    "print(\"Adjacency Matrix A:\\n\", A)\n",
    "print(\"\\nDegree Vector k:\\n\", k)\n",
    "print(\"\\nTotal Edges m:\", m)"
   ]
  },
  {
   "cell_type": "markdown",
   "id": "4590d3dd",
   "metadata": {},
   "source": [
    "Now, we must compute our Modularity Matrix $B$.\n",
    "\n",
    "We know that $$B = A - \\frac{k k^T}{2m}$$"
   ]
  },
  {
   "cell_type": "code",
   "execution_count": 11,
   "id": "c5b1ad53",
   "metadata": {},
   "outputs": [
    {
     "name": "stdout",
     "output_type": "stream",
     "text": [
      "[[-1.64102564  3.07692308  3.97435897 ...  1.38461538 -1.23076923\n",
      "  -1.74358974]\n",
      " [ 3.07692308 -0.51923077  5.42307692 ... -0.34615385 -0.69230769\n",
      "  -0.98076923]\n",
      " [ 3.97435897  5.42307692 -0.64102564 ... -0.38461538  1.23076923\n",
      "  -1.08974359]\n",
      " ...\n",
      " [ 1.38461538 -0.34615385 -0.38461538 ... -0.23076923  3.53846154\n",
      "   3.34615385]\n",
      " [-1.23076923 -0.69230769  1.23076923 ...  3.53846154 -0.92307692\n",
      "   3.69230769]\n",
      " [-1.74358974 -0.98076923 -1.08974359 ...  3.34615385  3.69230769\n",
      "  -1.8525641 ]]\n"
     ]
    }
   ],
   "source": [
    "B = A - (k @ k.T) / (2*m)\n",
    "print(B)"
   ]
  },
  {
   "cell_type": "markdown",
   "id": "e2c12de5",
   "metadata": {},
   "source": [
    "We define a Modularity Score $Q$.\n",
    "$$Q = \\frac{s^T B s}{4m}$$\n",
    "\n",
    "...(where $s$ is our label vector that assigns a +/- 1 label to each node, corresponding to it's community)\n",
    "\n",
    "We need to maximise $Q$, which means that we must maximise $s^T B s$.\n",
    "Since going through all possible combinations of $s$ is not realistically possible, we use a trick in optimization.\n",
    "\n",
    "We relax $s$, such that $\\|s\\|_2 = 1$, this leads us to a standard result in linear algebra that tells us that   \n",
    "$s^T B s$ is maximised when $s$ is the eigenvector of $B$ corresponding to the highest eigenvalue.   \n",
    "\n",
    "Therefore, now our problem is reduced to finding the eigenvector of $B$"
   ]
  },
  {
   "cell_type": "code",
   "execution_count": 12,
   "id": "67a5e4bc",
   "metadata": {},
   "outputs": [
    {
     "name": "stdout",
     "output_type": "stream",
     "text": [
      "Largest Eigenvalue (λ₁): 17.107386763280683\n",
      "\n",
      "Leading Eigenvector (u₁):\n",
      " [-0.32365173 -0.32525797 -0.26399012 -0.2423719  -0.08231957 -0.10763723\n",
      " -0.10534045 -0.21899159  0.04046967  0.02468171 -0.07180498 -0.05697514\n",
      " -0.06185916 -0.18088488  0.09998153  0.1405319  -0.03778568 -0.05728769\n",
      "  0.06006922 -0.05624387  0.07970634 -0.07630041  0.10030056  0.29584494\n",
      "  0.06714587  0.17810773  0.08482204  0.13031193  0.03315935  0.19121343\n",
      "  0.08889084  0.20638044  0.34139764  0.34685546]\n"
     ]
    }
   ],
   "source": [
    "# Compute the eigenvalues and eigenvectors of B\n",
    "eigenvalues, eigenvectors = np.linalg.eigh(B)\n",
    "\n",
    "index_max_eigenvalue = np.argmax(eigenvalues)\n",
    "\n",
    "lambda_1 = eigenvalues[index_max_eigenvalue]\n",
    "u_1 = eigenvectors[:, index_max_eigenvalue]    # Eigenvectors are columns in the eigenvectors matrix\n",
    "\n",
    "print(\"Largest Eigenvalue (λ₁):\", lambda_1)\n",
    "print(\"\\nLeading Eigenvector (u₁):\\n\", u_1)"
   ]
  },
  {
   "cell_type": "markdown",
   "id": "7f0f9f71",
   "metadata": {},
   "source": [
    "Now, we have gotten $u_1$ in the form of a soft assignment. So we must convert it into a hard assignment by splitting the nodes into 2 communities based on sign of each element of $u_1$."
   ]
  },
  {
   "cell_type": "code",
   "execution_count": null,
   "id": "414b3f56",
   "metadata": {},
   "outputs": [],
   "source": []
  }
 ],
 "metadata": {
  "kernelspec": {
   "display_name": "base",
   "language": "python",
   "name": "python3"
  },
  "language_info": {
   "codemirror_mode": {
    "name": "ipython",
    "version": 3
   },
   "file_extension": ".py",
   "mimetype": "text/x-python",
   "name": "python",
   "nbconvert_exporter": "python",
   "pygments_lexer": "ipython3",
   "version": "3.12.7"
  }
 },
 "nbformat": 4,
 "nbformat_minor": 5
}
